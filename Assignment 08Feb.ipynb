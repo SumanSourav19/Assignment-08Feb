{
 "cells": [
  {
   "cell_type": "markdown",
   "id": "a1e61cc9-440a-4a2f-8329-fb6c41859bbc",
   "metadata": {},
   "source": [
    "Q1. What is Abstraction in OOps? Explain with an example."
   ]
  },
  {
   "cell_type": "markdown",
   "id": "2ff7cf1d-a93b-4e96-9f71-212c9d6785e3",
   "metadata": {},
   "source": [
    "Ans) Abstraction is used to hide the internal functionality of the function from the users. The users only interact with the basic implementation of the function, but inner working is hidden. User is familiar with that \"what function does\" but they don't know \"how it does.\"\n",
    "\n",
    "Example- In simple words, we all use the smartphone and very much familiar with its functions such as camera, voice-recorder, call-dialing, etc., but we don't know how these operations are happening in the background. "
   ]
  },
  {
   "cell_type": "markdown",
   "id": "179f2d55-2680-4b4f-93de-bce22df280b2",
   "metadata": {},
   "source": [
    "Q2. Differentiate between Abstraction and Encapsulation. Explain with an example."
   ]
  },
  {
   "cell_type": "markdown",
   "id": "ecdc7872-971b-4f41-9ea5-a8f438e4da6d",
   "metadata": {},
   "source": [
    "Ans) Abstraction is a process of hiding unnecessary data and showing only relevant data. Out of an ocean of data, we are only maintaining the transparency of some data to the user. This important concept in object-oriented programming will reduce the complexity of the code and increases the readability.\n",
    "\n",
    "For example, let’s say we were assigned a task to create an online course enrollment portal, and the data fields available to us are {name, age, current occupation, college name, course name, payment method, sibling’s name, marital status, vehicle number}.\n",
    "\n",
    "Encapsulation is binding the data members with member variables. This will avoid the direct access of variables, because direct access of variables may violate privacy, and hiding of the implementation will not be possible.\n",
    "\n",
    "So, for example, when you create a class, it means you are implementing encapsulation. A class is an example of encapsulation as it binds all the data members (instance variables) and methods into a single unit."
   ]
  },
  {
   "cell_type": "markdown",
   "id": "1c9d526f-fe29-4545-bb42-b03d002e2e0f",
   "metadata": {},
   "source": [
    "Q3. What is abc module in python? Why is it used?"
   ]
  },
  {
   "cell_type": "markdown",
   "id": "92a51bf7-f0f7-45f4-9535-319f701b970e",
   "metadata": {},
   "source": [
    "Ans) An abstract base class is a class that is used as a blueprint for other classes. Abstract base classes are a powerful feature in Python since they help you define a blueprint for other classes that may have something in common.Abstract base classes provide a way to define interfaces when other techniques like hasattr() would be clumsy or subtly wrong (for example with magic methods). ABCs introduce virtual subclasses, which are classes that don’t inherit from a class but are still recognized by isinstance() and issubclass() functions. There are many built-in ABCs in Python. ABCs for Data structures like Iterator, Generator, Set, mapping etc. are defined in collections.abc module\n",
    "\n",
    "The 'abc' module in Python library provides the infrastructure for defining custom abstract base classes. 'abc' works by marking methods of the base class as abstract. This is done by @absttractmethod decorator."
   ]
  },
  {
   "cell_type": "markdown",
   "id": "3fe66052-44a3-482f-b517-4000856b1efd",
   "metadata": {},
   "source": [
    "Q4. How can we achieve data abstraction?"
   ]
  },
  {
   "cell_type": "markdown",
   "id": "fe541774-c8ff-461d-b175-9cf99455af8a",
   "metadata": {},
   "source": [
    "Ans) Data Abstraction in Python can be achieved through creating abstract classes and inheriting them later."
   ]
  },
  {
   "cell_type": "markdown",
   "id": "034ab7fc-63a0-404f-b917-7f08efa7780c",
   "metadata": {},
   "source": [
    "Q5. Can we create an instance of an abstract class? Explain your answer."
   ]
  },
  {
   "cell_type": "markdown",
   "id": "226e7943-5573-4ac7-9fa3-ffde0d1e0011",
   "metadata": {},
   "source": [
    "Ans) Abstract classes are not complete, as they may have some methods that are not defined. So we cannot create an instance or object of an abstract class in Python. If we try to instantiate the abstract class, it raises an error."
   ]
  },
  {
   "cell_type": "code",
   "execution_count": null,
   "id": "83c2aa0b-cd7b-49aa-8192-32602ca4eec7",
   "metadata": {},
   "outputs": [],
   "source": []
  }
 ],
 "metadata": {
  "kernelspec": {
   "display_name": "Python 3 (ipykernel)",
   "language": "python",
   "name": "python3"
  },
  "language_info": {
   "codemirror_mode": {
    "name": "ipython",
    "version": 3
   },
   "file_extension": ".py",
   "mimetype": "text/x-python",
   "name": "python",
   "nbconvert_exporter": "python",
   "pygments_lexer": "ipython3",
   "version": "3.10.8"
  }
 },
 "nbformat": 4,
 "nbformat_minor": 5
}
